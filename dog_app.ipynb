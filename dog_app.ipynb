{
 "cells": [
  {
   "cell_type": "markdown",
   "metadata": {},
   "source": [
    "# Artificial Intelligence Nanodegree\n",
    "\n",
    "## Convolutional Neural Networks\n",
    "\n",
    "## Project: Write an Algorithm for a Dog Identification App \n",
    "\n",
    "---\n",
    "\n",
    "In this notebook, some template code has already been provided for you, and you will need to implement additional functionality to successfully complete this project. You will not need to modify the included code beyond what is requested. Sections that begin with **'(IMPLEMENTATION)'** in the header indicate that the following block of code will require additional functionality which you must provide. Instructions will be provided for each section, and the specifics of the implementation are marked in the code block with a 'TODO' statement. Please be sure to read the instructions carefully! \n",
    "\n",
    "> **Note**: Once you have completed all of the code implementations, you need to finalize your work by exporting the iPython Notebook as an HTML document. Before exporting the notebook to html, all of the code cells need to have been run so that reviewers can see the final implementation and output. You can then export the notebook by using the menu above and navigating to  \\n\",\n",
    "    \"**File -> Download as -> HTML (.html)**. Include the finished document along with this notebook as your submission.\n",
    "\n",
    "In addition to implementing code, there will be questions that you must answer which relate to the project and your implementation. Each section where you will answer a question is preceded by a **'Question X'** header. Carefully read each question and provide thorough answers in the following text boxes that begin with **'Answer:'**. Your project submission will be evaluated based on your answers to each of the questions and the implementation you provide.\n",
    "\n",
    ">**Note:** Code and Markdown cells can be executed using the **Shift + Enter** keyboard shortcut.  Markdown cells can be edited by double-clicking the cell to enter edit mode.\n",
    "\n",
    "The rubric contains _optional_ \"Stand Out Suggestions\" for enhancing the project beyond the minimum requirements. If you decide to pursue the \"Stand Out Suggestions\", you should include the code in this IPython notebook.\n",
    "\n",
    "\n",
    "\n",
    "---\n",
    "### Why We're Here \n",
    "\n",
    "In this notebook, you will make the first steps towards developing an algorithm that could be used as part of a mobile or web app.  At the end of this project, your code will accept any user-supplied image as input.  If a dog is detected in the image, it will provide an estimate of the dog's breed.  If a human is detected, it will provide an estimate of the dog breed that is most resembling.  The image below displays potential sample output of your finished project (... but we expect that each student's algorithm will behave differently!). \n",
    "\n",
    "![Sample Dog Output](images/sample_dog_output.png)\n",
    "\n",
    "In this real-world setting, you will need to piece together a series of models to perform different tasks; for instance, the algorithm that detects humans in an image will be different from the CNN that infers dog breed.  There are many points of possible failure, and no perfect algorithm exists.  Your imperfect solution will nonetheless create a fun user experience!\n",
    "\n",
    "### The Road Ahead\n",
    "\n",
    "We break the notebook into separate steps.  Feel free to use the links below to navigate the notebook.\n",
    "\n",
    "* [Step 0](#step0): Import Datasets\n",
    "* [Step 1](#step1): Detect Humans\n",
    "* [Step 2](#step2): Detect Dogs\n",
    "* [Step 3](#step3): Create a CNN to Classify Dog Breeds (from Scratch)\n",
    "* [Step 4](#step4): Use a CNN to Classify Dog Breeds (using Transfer Learning)\n",
    "* [Step 5](#step5): Create a CNN to Classify Dog Breeds (using Transfer Learning)\n",
    "* [Step 6](#step6): Write your Algorithm\n",
    "* [Step 7](#step7): Test Your Algorithm\n",
    "\n",
    "---\n",
    "<a id='step0'></a>\n",
    "## Step 0: Import Datasets\n",
    "\n",
    "### Import Dog Dataset\n",
    "\n",
    "In the code cell below, we import a dataset of dog images.  We populate a few variables through the use of the `load_files` function from the scikit-learn library:\n",
    "- `train_files`, `valid_files`, `test_files` - numpy arrays containing file paths to images\n",
    "- `train_targets`, `valid_targets`, `test_targets` - numpy arrays containing onehot-encoded classification labels \n",
    "- `dog_names` - list of string-valued dog breed names for translating labels"
   ]
  },
  {
   "cell_type": "code",
   "execution_count": 19,
   "metadata": {},
   "outputs": [
    {
     "name": "stdout",
     "output_type": "stream",
     "text": [
      "There are 133 total dog categories.\n",
      "There are 8351 total dog images.\n",
      "\n",
      "There are 6680 training dog images.\n",
      "There are 835 validation dog images.\n",
      "There are 836 test dog images.\n"
     ]
    }
   ],
   "source": [
    "from sklearn.datasets import load_files       \n",
    "from keras.utils import np_utils\n",
    "import numpy as np\n",
    "from glob import glob\n",
    "\n",
    "# define function to load train, test, and validation datasets\n",
    "def load_dataset(path):\n",
    "    data = load_files(path)\n",
    "    dog_files = np.array(data['filenames'])\n",
    "    dog_targets = np_utils.to_categorical(np.array(data['target']), 133)\n",
    "    return dog_files, dog_targets\n",
    "\n",
    "# load train, test, and validation datasets\n",
    "train_files, train_targets = load_dataset('dogImages/train')\n",
    "valid_files, valid_targets = load_dataset('dogImages/valid')\n",
    "test_files, test_targets = load_dataset('dogImages/test')\n",
    "\n",
    "# load list of dog names\n",
    "dog_names = [item[20:-1] for item in sorted(glob(\"dogImages/train/*/\"))]\n",
    "\n",
    "# print statistics about the dataset\n",
    "print('There are %d total dog categories.' % len(dog_names))\n",
    "print('There are %s total dog images.\\n' % len(np.hstack([train_files, valid_files, test_files])))\n",
    "print('There are %d training dog images.' % len(train_files))\n",
    "print('There are %d validation dog images.' % len(valid_files))\n",
    "print('There are %d test dog images.'% len(test_files))"
   ]
  },
  {
   "cell_type": "markdown",
   "metadata": {},
   "source": [
    "### Import Human Dataset\n",
    "\n",
    "In the code cell below, we import a dataset of human images, where the file paths are stored in the numpy array `human_files`."
   ]
  },
  {
   "cell_type": "code",
   "execution_count": 24,
   "metadata": {},
   "outputs": [
    {
     "name": "stdout",
     "output_type": "stream",
     "text": [
      "There are 13233 total human images.\n"
     ]
    }
   ],
   "source": [
    "import random\n",
    "random.seed(8675309)\n",
    "\n",
    "# load filenames in shuffled human dataset\n",
    "human_files = np.array(glob(\"lfw/*/*\"))\n",
    "random.shuffle(human_files)\n",
    "\n",
    "# print statistics about the dataset\n",
    "print('There are %d total human images.' % len(human_files))"
   ]
  },
  {
   "cell_type": "markdown",
   "metadata": {},
   "source": [
    "---\n",
    "<a id='step1'></a>\n",
    "## Step 1: Detect Humans\n",
    "\n",
    "We use OpenCV's implementation of [Haar feature-based cascade classifiers](http://docs.opencv.org/trunk/d7/d8b/tutorial_py_face_detection.html) to detect human faces in images.  OpenCV provides many pre-trained face detectors, stored as XML files on [github](https://github.com/opencv/opencv/tree/master/data/haarcascades).  We have downloaded one of these detectors and stored it in the `haarcascades` directory.\n",
    "\n",
    "In the next code cell, we demonstrate how to use this detector to find human faces in a sample image."
   ]
  },
  {
   "cell_type": "code",
   "execution_count": 25,
   "metadata": {},
   "outputs": [
    {
     "name": "stdout",
     "output_type": "stream",
     "text": [
      "Number of faces detected: 1\n"
     ]
    },
    {
     "data": {
      "image/png": "[encoded data removed]",
      "text/plain": [
       "<matplotlib.figure.Figure at 0x11d115dd8>"
      ]
     },
     "metadata": {},
     "output_type": "display_data"
    }
   ],
   "source": [
    "import cv2                \n",
    "import matplotlib.pyplot as plt                        \n",
    "%matplotlib inline                               \n",
    "\n",
    "# extract pre-trained face detector\n",
    "face_cascade = cv2.CascadeClassifier('haarcascades/haarcascade_frontalface_alt.xml')\n",
    "\n",
    "# load color (BGR) image\n",
    "img = cv2.imread(human_files[99])\n",
    "# convert BGR image to grayscale\n",
    "gray = cv2.cvtColor(img, cv2.COLOR_BGR2GRAY)\n",
    "\n",
    "# find faces in image\n",
    "faces = face_cascade.detectMultiScale(gray)\n",
    "\n",
    "# print number of faces detected in the image\n",
    "print('Number of faces detected:', len(faces))\n",
    "\n",
    "# get bounding box for each detected face\n",
    "for (x,y,w,h) in faces:\n",
    "    # add bounding box to color image\n",
    "    cv2.rectangle(img,(x,y),(x+w,y+h),(255,0,0),2)\n",
    "    \n",
    "# convert BGR image to RGB for plotting\n",
    "cv_rgb = cv2.cvtColor(img, cv2.COLOR_BGR2RGB)\n",
    "\n",
    "# display the image, along with bounding box\n",
    "plt.imshow(cv_rgb)\n",
    "plt.show()"
   ]
  },
  {
   "cell_type": "markdown",
   "metadata": {},
   "source": [
    "Before using any of the face detectors, it is standard procedure to convert the images to grayscale.  The `detectMultiScale` function executes the classifier stored in `face_cascade` and takes the grayscale image as a parameter.  \n",
    "\n",
    "In the above code, `faces` is a numpy array of detected faces, where each row corresponds to a detected face.  Each detected face is a 1D array with four entries that specifies the bounding box of the detected face.  The first two entries in the array (extracted in the above code as `x` and `y`) specify the horizontal and vertical positions of the top left corner of the bounding box.  The last two entries in the array (extracted here as `w` and `h`) specify the width and height of the box.\n",
    "\n",
    "### Write a Human Face Detector\n",
    "\n",
    "We can use this procedure to write a function that returns `True` if a human face is detected in an image and `False` otherwise.  This function, aptly named `face_detector`, takes a string-valued file path to an image as input and appears in the code block below."
   ]
  },
  {
   "cell_type": "code",
   "execution_count": 26,
   "metadata": {},
   "outputs": [],
   "source": [
    "# returns \"True\" if face is detected in image stored at img_path\n",
    "def face_detector(img_path):\n",
    "    img = cv2.imread(img_path)\n",
    "    gray = cv2.cvtColor(img, cv2.COLOR_BGR2GRAY)\n",
    "    faces = face_cascade.detectMultiScale(gray)\n",
    "    return len(faces) > 0"
   ]
  },
  {
   "cell_type": "markdown",
   "metadata": {},
   "source": [
    "### (IMPLEMENTATION) Assess the Human Face Detector\n",
    "\n",
    "__Question 1:__ Use the code cell below to test the performance of the `face_detector` function.  \n",
    "- What percentage of the first 100 images in `human_files` have a detected human face?  \n",
    "- What percentage of the first 100 images in `dog_files` have a detected human face? \n",
    "\n",
    "Ideally, we would like 100% of human images with a detected face and 0% of dog images with a detected face.  You will see that our algorithm falls short of this goal, but still gives acceptable performance.  We extract the file paths for the first 100 images from each of the datasets and store them in the numpy arrays `human_files_short` and `dog_files_short`.\n",
    "\n",
    "__Answer:__ \n",
    "\n",
    "Based on my results, 100% and 11% of the first 100 images in human_files and dog_files been detected as human face, respectively."
   ]
  },
  {
   "cell_type": "code",
   "execution_count": 27,
   "metadata": {},
   "outputs": [
    {
     "name": "stderr",
     "output_type": "stream",
     "text": [
      "100%|██████████| 100/100 [00:03<00:00, 27.39it/s]\n",
      "100%|██████████| 100/100 [00:17<00:00,  5.77it/s]"
     ]
    },
    {
     "name": "stdout",
     "output_type": "stream",
     "text": [
      "human_face: 100%\n",
      "dog_face: 11%\n"
     ]
    },
    {
     "name": "stderr",
     "output_type": "stream",
     "text": [
      "\n"
     ]
    }
   ],
   "source": [
    "human_files_short = human_files[:100]\n",
    "dog_files_short = train_files[:100]\n",
    "# Do NOT modify the code above this line.\n",
    "\n",
    "## TODO: Test the performance of the face_detector algorithm \n",
    "## on the images in human_files_short and dog_files_short.\n",
    "\n",
    "from tqdm import tqdm\n",
    "human_face=0\n",
    "dog_face=0\n",
    "\n",
    "for human_files_short in tqdm(human_files_short):\n",
    "    human_face = human_face + face_detector(human_files_short)\n",
    "for dog_files_short in tqdm(dog_files_short):    \n",
    "    dog_face = dog_face + face_detector(dog_files_short)\n",
    "print (\"human_face: {0:.0f}%\".format(human_face))\n",
    "print (\"dog_face: {0:.0f}%\".format(dog_face))"
   ]
  },
  {
   "cell_type": "markdown",
   "metadata": {},
   "source": [
    "__Question 2:__ This algorithmic choice necessitates that we communicate to the user that we accept human images only when they provide a clear view of a face (otherwise, we risk having unneccessarily frustrated users!). In your opinion, is this a reasonable expectation to pose on the user? If not, can you think of a way to detect humans in images that does not necessitate an image with a clearly presented face?\n",
    "\n",
    "__Answer:__\n",
    "\n",
    "This algorithm accepts human images only when they provide a clear view of a face. I do not think this is a reasonable expectation to pose. We could construct another new algorithm using CNNs that could detect even the unclear images. \n",
    "\n",
    "Though I haven't used a cnn model for detecting faces but I tried a different Cascade classifier. In the below code I used a Local binary patterns(LBP) classifier. Results: 95 percentage of the first 100 images in human_files have a detected human face, whereas 11 percentage of the first 100 images in dog_files have a detected human face.\n",
    "\n",
    "We suggest the face detector from OpenCV as a potential way to detect human images in your algorithm, but you are free to explore other approaches, especially approaches that make use of deep learning :). Please use the code cell below to design and test your own face detection algorithm. If you decide to pursue this optional task, report performance on each of the datasets."
   ]
  },
  {
   "cell_type": "code",
   "execution_count": 62,
   "metadata": {},
   "outputs": [],
   "source": [
    "## (Optional) TODO: Report the performance of another  \n",
    "## face detection algorithm on the LFW dataset\n",
    "### Feel free to use as many code cells as needed.\n"
   ]
  },
  {
   "cell_type": "markdown",
   "metadata": {},
   "source": [
    "---\n",
    "<a id='step2'></a>\n",
    "## Step 2: Detect Dogs\n",
    "\n",
    "In this section, we use a pre-trained [ResNet-50](http://ethereon.github.io/netscope/#/gist/db945b393d40bfa26006) model to detect dogs in images.  Our first line of code downloads the ResNet-50 model, along with weights that have been trained on [ImageNet](http://www.image-net.org/), a very large, very popular dataset used for image classification and other vision tasks.  ImageNet contains over 10 million URLs, each linking to an image containing an object from one of [1000 categories](https://gist.github.com/yrevar/942d3a0ac09ec9e5eb3a).  Given an image, this pre-trained ResNet-50 model returns a prediction (derived from the available categories in ImageNet) for the object that is contained in the image."
   ]
  },
  {
   "cell_type": "code",
   "execution_count": 28,
   "metadata": {},
   "outputs": [],
   "source": [
    "from keras.applications.resnet50 import ResNet50\n",
    "\n",
    "# define ResNet50 model\n",
    "ResNet50_model = ResNet50(weights='imagenet')"
   ]
  },
  {
   "cell_type": "markdown",
   "metadata": {},
   "source": [
    "### Pre-process the Data\n",
    "\n",
    "When using TensorFlow as backend, Keras CNNs require a 4D array (which we'll also refer to as a 4D tensor) as input, with shape\n",
    "\n",
    "$$\n",
    "(\\text{nb_samples}, \\text{rows}, \\text{columns}, \\text{channels}),\n",
    "$$\n",
    "\n",
    "where `nb_samples` corresponds to the total number of images (or samples), and `rows`, `columns`, and `channels` correspond to the number of rows, columns, and channels for each image, respectively.  \n",
    "\n",
    "The `path_to_tensor` function below takes a string-valued file path to a color image as input and returns a 4D tensor suitable for supplying to a Keras CNN.  The function first loads the image and resizes it to a square image that is $224 \\times 224$ pixels.  Next, the image is converted to an array, which is then resized to a 4D tensor.  In this case, since we are working with color images, each image has three channels.  Likewise, since we are processing a single image (or sample), the returned tensor will always have shape\n",
    "\n",
    "$$\n",
    "(1, 224, 224, 3).\n",
    "$$\n",
    "\n",
    "The `paths_to_tensor` function takes a numpy array of string-valued image paths as input and returns a 4D tensor with shape \n",
    "\n",
    "$$\n",
    "(\\text{nb_samples}, 224, 224, 3).\n",
    "$$\n",
    "\n",
    "Here, `nb_samples` is the number of samples, or number of images, in the supplied array of image paths.  It is best to think of `nb_samples` as the number of 3D tensors (where each 3D tensor corresponds to a different image) in your dataset!"
   ]
  },
  {
   "cell_type": "code",
   "execution_count": 29,
   "metadata": {},
   "outputs": [],
   "source": [
    "from keras.preprocessing import image                  \n",
    "from tqdm import tqdm\n",
    "\n",
    "def path_to_tensor(img_path):\n",
    "    # loads RGB image as PIL.Image.Image type\n",
    "    img = image.load_img(img_path, target_size=(224, 224))\n",
    "    # convert PIL.Image.Image type to 3D tensor with shape (224, 224, 3)\n",
    "    x = image.img_to_array(img)\n",
    "    # convert 3D tensor to 4D tensor with shape (1, 224, 224, 3) and return 4D tensor\n",
    "    return np.expand_dims(x, axis=0)\n",
    "\n",
    "def paths_to_tensor(img_paths):\n",
    "    list_of_tensors = [path_to_tensor(img_path) for img_path in tqdm(img_paths)]\n",
    "    return np.vstack(list_of_tensors)"
   ]
  },
  {
   "cell_type": "markdown",
   "metadata": {},
   "source": [
    "### Making Predictions with ResNet-50\n",
    "\n",
    "Getting the 4D tensor ready for ResNet-50, and for any other pre-trained model in Keras, requires some additional processing.  First, the RGB image is converted to BGR by reordering the channels.  All pre-trained models have the additional normalization step that the mean pixel (expressed in RGB as $[103.939, 116.779, 123.68]$ and calculated from all pixels in all images in ImageNet) must be subtracted from every pixel in each image.  This is implemented in the imported function `preprocess_input`.  If you're curious, you can check the code for `preprocess_input` [here](https://github.com/fchollet/keras/blob/master/keras/applications/imagenet_utils.py).\n",
    "\n",
    "Now that we have a way to format our image for supplying to ResNet-50, we are now ready to use the model to extract the predictions.  This is accomplished with the `predict` method, which returns an array whose $i$-th entry is the model's predicted probability that the image belongs to the $i$-th ImageNet category.  This is implemented in the `ResNet50_predict_labels` function below.\n",
    "\n",
    "By taking the argmax of the predicted probability vector, we obtain an integer corresponding to the model's predicted object class, which we can identify with an object category through the use of this [dictionary](https://gist.github.com/yrevar/942d3a0ac09ec9e5eb3a). "
   ]
  },
  {
   "cell_type": "code",
   "execution_count": 30,
   "metadata": {},
   "outputs": [],
   "source": [
    "from keras.applications.resnet50 import preprocess_input, decode_predictions\n",
    "\n",
    "def ResNet50_predict_labels(img_path):\n",
    "    # returns prediction vector for image located at img_path\n",
    "    img = preprocess_input(path_to_tensor(img_path))\n",
    "    return np.argmax(ResNet50_model.predict(img))"
   ]
  },
  {
   "cell_type": "markdown",
   "metadata": {},
   "source": [
    "### Write a Dog Detector\n",
    "\n",
    "While looking at the [dictionary](https://gist.github.com/yrevar/942d3a0ac09ec9e5eb3a), you will notice that the categories corresponding to dogs appear in an uninterrupted sequence and correspond to dictionary keys 151-268, inclusive, to include all categories from `'Chihuahua'` to `'Mexican hairless'`.  Thus, in order to check to see if an image is predicted to contain a dog by the pre-trained ResNet-50 model, we need only check if the `ResNet50_predict_labels` function above returns a value between 151 and 268 (inclusive).\n",
    "\n",
    "We use these ideas to complete the `dog_detector` function below, which returns `True` if a dog is detected in an image (and `False` if not)."
   ]
  },
  {
   "cell_type": "code",
   "execution_count": 31,
   "metadata": {},
   "outputs": [],
   "source": [
    "### returns \"True\" if a dog is detected in the image stored at img_path\n",
    "def dog_detector(img_path):\n",
    "    prediction = ResNet50_predict_labels(img_path)\n",
    "    return ((prediction <= 268) & (prediction >= 151)) "
   ]
  },
  {
   "cell_type": "markdown",
   "metadata": {},
   "source": [
    "### (IMPLEMENTATION) Assess the Dog Detector\n",
    "\n",
    "__Question 3:__ Use the code cell below to test the performance of your `dog_detector` function.  \n",
    "- What percentage of the images in `human_files_short` have a detected dog?  \n",
    "- What percentage of the images in `dog_files_short` have a detected dog?\n",
    "\n",
    "__Answer:__ \n",
    "\n",
    "human_face: 0%\n",
    "\n",
    "dog_face: 100%"
   ]
  },
  {
   "cell_type": "code",
   "execution_count": 87,
   "metadata": {},
   "outputs": [
    {
     "name": "stderr",
     "output_type": "stream",
     "text": [
      "100%|██████████| 100/100 [00:24<00:00,  4.25it/s]\n",
      "100%|██████████| 100/100 [00:25<00:00,  4.12it/s]"
     ]
    },
    {
     "name": "stdout",
     "output_type": "stream",
     "text": [
      "human_face: 0%\n",
      "dog_face: 100%\n"
     ]
    },
    {
     "name": "stderr",
     "output_type": "stream",
     "text": [
      "\n"
     ]
    }
   ],
   "source": [
    "### TODO: Test the performance of the dog_detector function\n",
    "### on the images in human_files_short and dog_files_short.\n",
    "\n",
    "human_files_short = human_files[:100]\n",
    "dog_files_short = train_files[:100]\n",
    "\n",
    "# Do NOT modify the code above this line.\n",
    "\n",
    "human_files_short = human_files[:100]\n",
    "dog_files_short = train_files[:100]\n",
    "from tqdm import tqdm\n",
    "human_face=0\n",
    "dog_face=0\n",
    "test_hf=0\n",
    "test_df=0\n",
    "\n",
    "for human_files_short in tqdm(human_files_short):\n",
    "    human_face = human_face + dog_detector(human_files_short)\n",
    "    test_hf = test_hf + 1 \n",
    "for dog_files_short in tqdm(dog_files_short):\n",
    "    dog_face = dog_face + dog_detector(dog_files_short)\n",
    "    test_df = test_df + 1\n",
    "print (\"human_face: {0:.0f}%\".format(human_face))\n",
    "print (\"dog_face: {0:.0f}%\".format(dog_face))"
   ]
  },
  {
   "cell_type": "markdown",
   "metadata": {},
   "source": [
    "---\n",
    "<a id='step3'></a>\n",
    "## Step 3: Create a CNN to Classify Dog Breeds (from Scratch)\n",
    "\n",
    "Now that we have functions for detecting humans and dogs in images, we need a way to predict breed from images.  In this step, you will create a CNN that classifies dog breeds.  You must create your CNN _from scratch_ (so, you can't use transfer learning _yet_!), and you must attain a test accuracy of at least 1%.  In Step 5 of this notebook, you will have the opportunity to use transfer learning to create a CNN that attains greatly improved accuracy.\n",
    "\n",
    "Be careful with adding too many trainable layers!  More parameters means longer training, which means you are more likely to need a GPU to accelerate the training process.  Thankfully, Keras provides a handy estimate of the time that each epoch is likely to take; you can extrapolate this estimate to figure out how long it will take for your algorithm to train. \n",
    "\n",
    "We mention that the task of assigning breed to dogs from images is considered exceptionally challenging.  To see why, consider that *even a human* would have great difficulty in distinguishing between a Brittany and a Welsh Springer Spaniel.  \n",
    "\n",
    "Brittany | Welsh Springer Spaniel\n",
    "- | - \n",
    "<img src=\"images/Brittany_02625.jpg\" width=\"100\"> | <img src=\"images/Welsh_springer_spaniel_08203.jpg\" width=\"200\">\n",
    "\n",
    "It is not difficult to find other dog breed pairs with minimal inter-class variation (for instance, Curly-Coated Retrievers and American Water Spaniels).  \n",
    "\n",
    "Curly-Coated Retriever | American Water Spaniel\n",
    "- | -\n",
    "<img src=\"images/Curly-coated_retriever_03896.jpg\" width=\"200\"> | <img src=\"images/American_water_spaniel_00648.jpg\" width=\"200\">\n",
    "\n",
    "\n",
    "Likewise, recall that labradors come in yellow, chocolate, and black.  Your vision-based algorithm will have to conquer this high intra-class variation to determine how to classify all of these different shades as the same breed.  \n",
    "\n",
    "Yellow Labrador | Chocolate Labrador | Black Labrador\n",
    "- | -\n",
    "<img src=\"images/Labrador_retriever_06457.jpg\" width=\"150\"> | <img src=\"images/Labrador_retriever_06455.jpg\" width=\"240\"> | <img src=\"images/Labrador_retriever_06449.jpg\" width=\"220\">\n",
    "\n",
    "We also mention that random chance presents an exceptionally low bar: setting aside the fact that the classes are slightly imabalanced, a random guess will provide a correct answer roughly 1 in 133 times, which corresponds to an accuracy of less than 1%.  \n",
    "\n",
    "Remember that the practice is far ahead of the theory in deep learning.  Experiment with many different architectures, and trust your intuition.  And, of course, have fun! \n",
    "\n",
    "### Pre-process the Data\n",
    "\n",
    "We rescale the images by dividing every pixel in every image by 255."
   ]
  },
  {
   "cell_type": "code",
   "execution_count": 33,
   "metadata": {},
   "outputs": [
    {
     "name": "stderr",
     "output_type": "stream",
     "text": [
      "100%|██████████| 6680/6680 [01:59<00:00, 56.13it/s]\n",
      "100%|██████████| 835/835 [00:13<00:00, 67.86it/s]\n",
      "100%|██████████| 836/836 [00:13<00:00, 60.44it/s]\n"
     ]
    }
   ],
   "source": [
    "from PIL import ImageFile                            \n",
    "ImageFile.LOAD_TRUNCATED_IMAGES = True                 \n",
    "\n",
    "# pre-process the data for Keras\n",
    "train_tensors = paths_to_tensor(train_files).astype('float32')/255\n",
    "valid_tensors = paths_to_tensor(valid_files).astype('float32')/255\n",
    "test_tensors = paths_to_tensor(test_files).astype('float32')/255"
   ]
  },
  {
   "cell_type": "markdown",
   "metadata": {},
   "source": [
    "### (IMPLEMENTATION) Model Architecture\n",
    "\n",
    "Create a CNN to classify dog breed.  At the end of your code cell block, summarize the layers of your model by executing the line:\n",
    "    \n",
    "        model.summary()\n",
    "\n",
    "We have imported some Python modules to get you started, but feel free to import as many modules as you need.  If you end up getting stuck, here's a hint that specifies a model that trains relatively fast on CPU and attains >1% test accuracy in 5 epochs:\n",
    "\n",
    "![Sample CNN](images/sample_cnn.png)\n",
    "           \n",
    "__Question 4:__ Outline the steps you took to get to your final CNN architecture and your reasoning at each step.  If you chose to use the hinted architecture above, describe why you think that CNN architecture should work well for the image classification task.\n",
    "\n",
    "__Answer:__ \n",
    "\n",
    "I consider the sample_cnn image above to build the ardhitech. I have gradually increased the layers of the convolutional nets. To get a better future extraction I have set the number of the filters to 128 and I have changed the size of window of First MaxPool layer to 3 to get  a better generalization. Moreover, I have added 2 dropout layers to avoid overfitting so that keep in balance the train accuracy and the validation accuracy."
   ]
  },
  {
   "cell_type": "code",
   "execution_count": 65,
   "metadata": {},
   "outputs": [
    {
     "name": "stdout",
     "output_type": "stream",
     "text": [
      "_________________________________________________________________\n",
      "Layer (type)                 Output Shape              Param #   \n",
      "=================================================================\n",
      "conv2d_32 (Conv2D)           (None, 222, 222, 32)      896       \n",
      "_________________________________________________________________\n",
      "max_pooling2d_34 (MaxPooling (None, 111, 111, 32)      0         \n",
      "_________________________________________________________________\n",
      "dropout_12 (Dropout)         (None, 111, 111, 32)      0         \n",
      "_________________________________________________________________\n",
      "conv2d_33 (Conv2D)           (None, 109, 109, 64)      18496     \n",
      "_________________________________________________________________\n",
      "max_pooling2d_35 (MaxPooling (None, 54, 54, 64)        0         \n",
      "_________________________________________________________________\n",
      "conv2d_34 (Conv2D)           (None, 52, 52, 128)       73856     \n",
      "_________________________________________________________________\n",
      "max_pooling2d_36 (MaxPooling (None, 26, 26, 128)       0         \n",
      "_________________________________________________________________\n",
      "dropout_13 (Dropout)         (None, 26, 26, 128)       0         \n",
      "_________________________________________________________________\n",
      "global_average_pooling2d_12  (None, 128)               0         \n",
      "_________________________________________________________________\n",
      "dense_12 (Dense)             (None, 133)               17157     \n",
      "=================================================================\n",
      "Total params: 110,405.0\n",
      "Trainable params: 110,405.0\n",
      "Non-trainable params: 0.0\n",
      "_________________________________________________________________\n"
     ]
    }
   ],
   "source": [
    "from keras.layers import Conv2D, MaxPooling2D, GlobalAveragePooling2D\n",
    "from keras.layers import Dropout, Flatten, Dense\n",
    "from keras.models import Sequential\n",
    "from keras.layers import Dropout\n",
    "from keras.constraints import maxnorm\n",
    "\n",
    "model = Sequential()\n",
    "\n",
    "### TODO: Define your architecture.\n",
    "\n",
    "model.add(Conv2D(32, (3, 3), padding='valid', input_shape=(224, 224, 3),\n",
    "                activation='relu', kernel_constraint=maxnorm(3)))\n",
    "model.add(MaxPooling2D(pool_size=(2, 2)))\n",
    "model.add(Dropout(.2))\n",
    "\n",
    "model.add(Conv2D(64, (3, 3), padding='valid',\n",
    "                activation='relu', kernel_constraint=maxnorm(3)))\n",
    "model.add(MaxPooling2D(pool_size=(2, 2)))\n",
    "\n",
    "model.add(Conv2D(128, (3, 3), padding='valid',\n",
    "                activation='relu', kernel_constraint=maxnorm(3)))\n",
    "model.add(MaxPooling2D(pool_size=(2, 2)))\n",
    "model.add(Dropout(0.4))\n",
    "\n",
    "model.add(GlobalAveragePooling2D())\n",
    "model.add(Dense(133, activation='softmax'))\n",
    "\n",
    "model.summary()"
   ]
  },
  {
   "cell_type": "markdown",
   "metadata": {},
   "source": [
    "### Compile the Model"
   ]
  },
  {
   "cell_type": "code",
   "execution_count": 66,
   "metadata": {},
   "outputs": [],
   "source": [
    "model.compile(optimizer='rmsprop', loss='categorical_crossentropy', metrics=['accuracy'])"
   ]
  },
  {
   "cell_type": "markdown",
   "metadata": {},
   "source": [
    "### (IMPLEMENTATION) Train the Model\n",
    "\n",
    "Train your model in the code cell below.  Use model checkpointing to save the model that attains the best validation loss.\n",
    "\n",
    "You are welcome to [augment the training data](https://blog.keras.io/building-powerful-image-classification-models-using-very-little-data.html), but this is not a requirement. "
   ]
  },
  {
   "cell_type": "code",
   "execution_count": 67,
   "metadata": {},
   "outputs": [
    {
     "name": "stdout",
     "output_type": "stream",
     "text": [
      "Train on 6680 samples, validate on 835 samples\n",
      "Epoch 1/4\n",
      "6672/6680 [============================>.] - ETA: 0s - loss: 4.8844 - acc: 0.0103Epoch 00000: val_loss improved from inf to 4.87403, saving model to saved_models/weights.best.from_scratch.hdf5\n",
      "6680/6680 [==============================] - 540s - loss: 4.8844 - acc: 0.0103 - val_loss: 4.8740 - val_acc: 0.0144\n",
      "Epoch 2/4\n",
      "6672/6680 [============================>.] - ETA: 0s - loss: 4.8309 - acc: 0.0168Epoch 00001: val_loss improved from 4.87403 to 4.81175, saving model to saved_models/weights.best.from_scratch.hdf5\n",
      "6680/6680 [==============================] - 561s - loss: 4.8309 - acc: 0.0168 - val_loss: 4.8118 - val_acc: 0.0168\n",
      "Epoch 3/4\n",
      "6672/6680 [============================>.] - ETA: 0s - loss: 4.7677 - acc: 0.0211Epoch 00002: val_loss improved from 4.81175 to 4.75336, saving model to saved_models/weights.best.from_scratch.hdf5\n",
      "6680/6680 [==============================] - 560s - loss: 4.7677 - acc: 0.0211 - val_loss: 4.7534 - val_acc: 0.0251\n",
      "Epoch 4/4\n",
      "6672/6680 [============================>.] - ETA: 0s - loss: 4.7181 - acc: 0.0208Epoch 00003: val_loss improved from 4.75336 to 4.74045, saving model to saved_models/weights.best.from_scratch.hdf5\n",
      "6680/6680 [==============================] - 561s - loss: 4.7181 - acc: 0.0208 - val_loss: 4.7404 - val_acc: 0.0240\n"
     ]
    },
    {
     "data": {
      "text/plain": [
       "<keras.callbacks.History at 0x12f2fdeb8>"
      ]
     },
     "execution_count": 67,
     "metadata": {},
     "output_type": "execute_result"
    }
   ],
   "source": [
    "from keras.callbacks import ModelCheckpoint  \n",
    "\n",
    "### TODO: specify the number of epochs that you would like to use to train the model.\n",
    "\n",
    "epochs = 4\n",
    "\n",
    "### Do NOT modify the code below this line.\n",
    "\n",
    "checkpointer = ModelCheckpoint(filepath='saved_models/weights.best.from_scratch.hdf5', \n",
    "                               verbose=1, save_best_only=True)\n",
    "\n",
    "model.fit(train_tensors, train_targets, \n",
    "          validation_data=(valid_tensors, valid_targets),\n",
    "          epochs=epochs, batch_size=16, callbacks=[checkpointer], verbose=1)"
   ]
  },
  {
   "cell_type": "markdown",
   "metadata": {},
   "source": [
    "### Load the Model with the Best Validation Loss"
   ]
  },
  {
   "cell_type": "code",
   "execution_count": 68,
   "metadata": {},
   "outputs": [],
   "source": [
    "model.load_weights('saved_models/weights.best.from_scratch.hdf5')"
   ]
  },
  {
   "cell_type": "markdown",
   "metadata": {},
   "source": [
    "### Test the Model\n",
    "\n",
    "Try out your model on the test dataset of dog images.  Ensure that your test accuracy is greater than 1%."
   ]
  },
  {
   "cell_type": "code",
   "execution_count": 69,
   "metadata": {},
   "outputs": [
    {
     "name": "stdout",
     "output_type": "stream",
     "text": [
      "test_accuracy: 2.5120%\n"
     ]
    }
   ],
   "source": [
    "# get index of predicted dog breed for each image in test set\n",
    "dog_breed_predictions = [np.argmax(model.predict(np.expand_dims(tensor, axis=0))) for tensor in test_tensors]\n",
    "\n",
    "# report test accuracy\n",
    "test_accuracy = 100*np.sum(np.array(dog_breed_predictions)==np.argmax(test_targets, axis=1))/len(dog_breed_predictions)\n",
    "print('test_accuracy: %.4f%%' % test_accuracy)"
   ]
  },
  {
   "cell_type": "markdown",
   "metadata": {},
   "source": [
    "---\n",
    "<a id='step4'></a>\n",
    "## Step 4: Use a CNN to Classify Dog Breeds\n",
    "\n",
    "To reduce training time without sacrificing accuracy, we show you how to train a CNN using transfer learning.  In the following step, you will get a chance to use transfer learning to train your own CNN.\n",
    "\n",
    "### Obtain Bottleneck Features"
   ]
  },
  {
   "cell_type": "code",
   "execution_count": 70,
   "metadata": {},
   "outputs": [],
   "source": [
    "bottleneck_features = np.load('bottleneck_features/DogVGG16Data.npz')\n",
    "train_VGG16 = bottleneck_features['train']\n",
    "valid_VGG16 = bottleneck_features['valid']\n",
    "test_VGG16 = bottleneck_features['test']"
   ]
  },
  {
   "cell_type": "markdown",
   "metadata": {},
   "source": [
    "### Model Architecture\n",
    "\n",
    "The model uses the the pre-trained VGG-16 model as a fixed feature extractor, where the last convolutional output of VGG-16 is fed as input to our model.  We only add a global average pooling layer and a fully connected layer, where the latter contains one node for each dog category and is equipped with a softmax."
   ]
  },
  {
   "cell_type": "code",
   "execution_count": 71,
   "metadata": {},
   "outputs": [
    {
     "name": "stdout",
     "output_type": "stream",
     "text": [
      "_________________________________________________________________\n",
      "Layer (type)                 Output Shape              Param #   \n",
      "=================================================================\n",
      "global_average_pooling2d_13  (None, 512)               0         \n",
      "_________________________________________________________________\n",
      "dense_13 (Dense)             (None, 133)               68229     \n",
      "=================================================================\n",
      "Total params: 68,229.0\n",
      "Trainable params: 68,229.0\n",
      "Non-trainable params: 0.0\n",
      "_________________________________________________________________\n"
     ]
    }
   ],
   "source": [
    "VGG16_model = Sequential()\n",
    "VGG16_model.add(GlobalAveragePooling2D(input_shape=train_VGG16.shape[1:]))\n",
    "VGG16_model.add(Dense(133, activation='softmax'))\n",
    "\n",
    "VGG16_model.summary()"
   ]
  },
  {
   "cell_type": "markdown",
   "metadata": {},
   "source": [
    "### Compile the Model"
   ]
  },
  {
   "cell_type": "code",
   "execution_count": 72,
   "metadata": {},
   "outputs": [],
   "source": [
    "VGG16_model.compile(loss='categorical_crossentropy', optimizer='rmsprop', metrics=['accuracy'])"
   ]
  },
  {
   "cell_type": "markdown",
   "metadata": {},
   "source": [
    "### Train the Model"
   ]
  },
  {
   "cell_type": "code",
   "execution_count": 73,
   "metadata": {},
   "outputs": [
    {
     "name": "stdout",
     "output_type": "stream",
     "text": [
      "Train on 6680 samples, validate on 835 samples\n",
      "Epoch 1/32\n",
      "6624/6680 [============================>.] - ETA: 0s - loss: 12.5211 - acc: 0.1132Epoch 00000: val_loss improved from inf to 11.28276, saving model to saved_models/weights.best.VGG16.hdf5\n",
      "6680/6680 [==============================] - 1s - loss: 12.4977 - acc: 0.1144 - val_loss: 11.2828 - val_acc: 0.1940\n",
      "Epoch 2/32\n",
      "6528/6680 [============================>.] - ETA: 0s - loss: 10.8018 - acc: 0.2561Epoch 00001: val_loss improved from 11.28276 to 10.85841, saving model to saved_models/weights.best.VGG16.hdf5\n",
      "6680/6680 [==============================] - 0s - loss: 10.7928 - acc: 0.2567 - val_loss: 10.8584 - val_acc: 0.2467\n",
      "Epoch 3/32\n",
      "6528/6680 [============================>.] - ETA: 0s - loss: 10.2986 - acc: 0.3159Epoch 00002: val_loss improved from 10.85841 to 10.48837, saving model to saved_models/weights.best.VGG16.hdf5\n",
      "6680/6680 [==============================] - 0s - loss: 10.2944 - acc: 0.3162 - val_loss: 10.4884 - val_acc: 0.2898\n",
      "Epoch 4/32\n",
      "6496/6680 [============================>.] - ETA: 0s - loss: 10.1303 - acc: 0.3410Epoch 00003: val_loss improved from 10.48837 to 10.35312, saving model to saved_models/weights.best.VGG16.hdf5\n",
      "6680/6680 [==============================] - 1s - loss: 10.1336 - acc: 0.3410 - val_loss: 10.3531 - val_acc: 0.2934\n",
      "Epoch 5/32\n",
      "6432/6680 [===========================>..] - ETA: 0s - loss: 9.8816 - acc: 0.3618Epoch 00004: val_loss improved from 10.35312 to 10.22257, saving model to saved_models/weights.best.VGG16.hdf5\n",
      "6680/6680 [==============================] - 0s - loss: 9.8585 - acc: 0.3633 - val_loss: 10.2226 - val_acc: 0.2982\n",
      "Epoch 6/32\n",
      "6528/6680 [============================>.] - ETA: 0s - loss: 9.6630 - acc: 0.3801Epoch 00005: val_loss improved from 10.22257 to 10.04411, saving model to saved_models/weights.best.VGG16.hdf5\n",
      "6680/6680 [==============================] - 0s - loss: 9.6711 - acc: 0.3796 - val_loss: 10.0441 - val_acc: 0.3269\n",
      "Epoch 7/32\n",
      "6528/6680 [============================>.] - ETA: 0s - loss: 9.5865 - acc: 0.3909Epoch 00006: val_loss improved from 10.04411 to 9.98102, saving model to saved_models/weights.best.VGG16.hdf5\n",
      "6680/6680 [==============================] - 0s - loss: 9.5682 - acc: 0.3919 - val_loss: 9.9810 - val_acc: 0.3198\n",
      "Epoch 8/32\n",
      "6560/6680 [============================>.] - ETA: 0s - loss: 9.4931 - acc: 0.4011Epoch 00007: val_loss improved from 9.98102 to 9.94429, saving model to saved_models/weights.best.VGG16.hdf5\n",
      "6680/6680 [==============================] - 0s - loss: 9.4967 - acc: 0.4009 - val_loss: 9.9443 - val_acc: 0.3293\n",
      "Epoch 9/32\n",
      "6592/6680 [============================>.] - ETA: 0s - loss: 9.4629 - acc: 0.4043Epoch 00008: val_loss improved from 9.94429 to 9.91968, saving model to saved_models/weights.best.VGG16.hdf5\n",
      "6680/6680 [==============================] - 1s - loss: 9.4686 - acc: 0.4040 - val_loss: 9.9197 - val_acc: 0.3317\n",
      "Epoch 10/32\n",
      "6656/6680 [============================>.] - ETA: 0s - loss: 9.4492 - acc: 0.4091Epoch 00009: val_loss improved from 9.91968 to 9.89815, saving model to saved_models/weights.best.VGG16.hdf5\n",
      "6680/6680 [==============================] - 0s - loss: 9.4538 - acc: 0.4088 - val_loss: 9.8981 - val_acc: 0.3365\n",
      "Epoch 11/32\n",
      "6656/6680 [============================>.] - ETA: 0s - loss: 9.4383 - acc: 0.4106Epoch 00010: val_loss did not improve\n",
      "6680/6680 [==============================] - 0s - loss: 9.4430 - acc: 0.4103 - val_loss: 9.9149 - val_acc: 0.3401\n",
      "Epoch 12/32\n",
      "6336/6680 [===========================>..] - ETA: 0s - loss: 9.4521 - acc: 0.4108Epoch 00011: val_loss improved from 9.89815 to 9.85910, saving model to saved_models/weights.best.VGG16.hdf5\n",
      "6680/6680 [==============================] - 0s - loss: 9.4391 - acc: 0.4114 - val_loss: 9.8591 - val_acc: 0.3365\n",
      "Epoch 13/32\n",
      "6432/6680 [===========================>..] - ETA: 0s - loss: 9.4232 - acc: 0.4125Epoch 00012: val_loss did not improve\n",
      "6680/6680 [==============================] - 0s - loss: 9.4224 - acc: 0.4124 - val_loss: 9.8777 - val_acc: 0.3485\n",
      "Epoch 14/32\n",
      "6496/6680 [============================>.] - ETA: 0s - loss: 9.3147 - acc: 0.4119Epoch 00013: val_loss improved from 9.85910 to 9.74041, saving model to saved_models/weights.best.VGG16.hdf5\n",
      "6680/6680 [==============================] - 1s - loss: 9.3164 - acc: 0.4120 - val_loss: 9.7404 - val_acc: 0.3389\n",
      "Epoch 15/32\n",
      "6496/6680 [============================>.] - ETA: 0s - loss: 9.2017 - acc: 0.4207Epoch 00014: val_loss improved from 9.74041 to 9.72097, saving model to saved_models/weights.best.VGG16.hdf5\n",
      "6680/6680 [==============================] - 1s - loss: 9.2154 - acc: 0.4193 - val_loss: 9.7210 - val_acc: 0.3497\n",
      "Epoch 16/32\n",
      "6368/6680 [===========================>..] - ETA: 0s - loss: 9.1199 - acc: 0.4256Epoch 00015: val_loss improved from 9.72097 to 9.58991, saving model to saved_models/weights.best.VGG16.hdf5\n",
      "6680/6680 [==============================] - 0s - loss: 9.1220 - acc: 0.4254 - val_loss: 9.5899 - val_acc: 0.3521\n",
      "Epoch 17/32\n",
      "6432/6680 [===========================>..] - ETA: 0s - loss: 9.0719 - acc: 0.4286Epoch 00016: val_loss improved from 9.58991 to 9.58931, saving model to saved_models/weights.best.VGG16.hdf5\n",
      "6680/6680 [==============================] - 0s - loss: 9.0471 - acc: 0.4299 - val_loss: 9.5893 - val_acc: 0.3365\n",
      "Epoch 18/32\n",
      "6272/6680 [===========================>..] - ETA: 0s - loss: 8.9056 - acc: 0.4372Epoch 00017: val_loss improved from 9.58931 to 9.38421, saving model to saved_models/weights.best.VGG16.hdf5\n",
      "6680/6680 [==============================] - 0s - loss: 8.9021 - acc: 0.4377 - val_loss: 9.3842 - val_acc: 0.3593\n",
      "Epoch 19/32\n",
      "6368/6680 [===========================>..] - ETA: 0s - loss: 8.7393 - acc: 0.4482Epoch 00018: val_loss improved from 9.38421 to 9.36460, saving model to saved_models/weights.best.VGG16.hdf5\n",
      "6680/6680 [==============================] - 0s - loss: 8.7753 - acc: 0.4460 - val_loss: 9.3646 - val_acc: 0.3545\n",
      "Epoch 20/32\n",
      "6496/6680 [============================>.] - ETA: 0s - loss: 8.7365 - acc: 0.4514Epoch 00019: val_loss improved from 9.36460 to 9.27207, saving model to saved_models/weights.best.VGG16.hdf5\n",
      "6680/6680 [==============================] - 0s - loss: 8.7136 - acc: 0.4528 - val_loss: 9.2721 - val_acc: 0.3605\n",
      "Epoch 21/32\n",
      "6272/6680 [===========================>..] - ETA: 0s - loss: 8.7013 - acc: 0.4555Epoch 00020: val_loss improved from 9.27207 to 9.25558, saving model to saved_models/weights.best.VGG16.hdf5\n",
      "6680/6680 [==============================] - 0s - loss: 8.6898 - acc: 0.4563 - val_loss: 9.2556 - val_acc: 0.3772\n",
      "Epoch 22/32\n",
      "6336/6680 [===========================>..] - ETA: 0s - loss: 8.6586 - acc: 0.4572Epoch 00021: val_loss did not improve\n",
      "6680/6680 [==============================] - 0s - loss: 8.6653 - acc: 0.4570 - val_loss: 9.2908 - val_acc: 0.3593\n",
      "Epoch 23/32\n",
      "6624/6680 [============================>.] - ETA: 0s - loss: 8.5804 - acc: 0.4611Epoch 00022: val_loss improved from 9.25558 to 9.23661, saving model to saved_models/weights.best.VGG16.hdf5\n",
      "6680/6680 [==============================] - 0s - loss: 8.5956 - acc: 0.4600 - val_loss: 9.2366 - val_acc: 0.3653\n",
      "Epoch 24/32\n",
      "6656/6680 [============================>.] - ETA: 0s - loss: 8.5810 - acc: 0.4636Epoch 00023: val_loss improved from 9.23661 to 9.10992, saving model to saved_models/weights.best.VGG16.hdf5\n",
      "6680/6680 [==============================] - 0s - loss: 8.5743 - acc: 0.4641 - val_loss: 9.1099 - val_acc: 0.3796\n",
      "Epoch 25/32\n",
      "6656/6680 [============================>.] - ETA: 0s - loss: 8.4630 - acc: 0.4678Epoch 00024: val_loss improved from 9.10992 to 9.10373, saving model to saved_models/weights.best.VGG16.hdf5\n",
      "6680/6680 [==============================] - 0s - loss: 8.4663 - acc: 0.4677 - val_loss: 9.1037 - val_acc: 0.3737\n",
      "Epoch 26/32\n",
      "6656/6680 [============================>.] - ETA: 0s - loss: 8.4439 - acc: 0.4736Epoch 00025: val_loss improved from 9.10373 to 9.02244, saving model to saved_models/weights.best.VGG16.hdf5\n",
      "6680/6680 [==============================] - 0s - loss: 8.4401 - acc: 0.4738 - val_loss: 9.0224 - val_acc: 0.3880\n",
      "Epoch 27/32\n",
      "6624/6680 [============================>.] - ETA: 0s - loss: 8.4382 - acc: 0.4748Epoch 00026: val_loss improved from 9.02244 to 9.02230, saving model to saved_models/weights.best.VGG16.hdf5\n"
     ]
    },
    {
     "name": "stdout",
     "output_type": "stream",
     "text": [
      "6680/6680 [==============================] - 0s - loss: 8.4329 - acc: 0.4750 - val_loss: 9.0223 - val_acc: 0.3868\n",
      "Epoch 28/32\n",
      "6496/6680 [============================>.] - ETA: 0s - loss: 8.4080 - acc: 0.4772Epoch 00027: val_loss improved from 9.02230 to 8.98732, saving model to saved_models/weights.best.VGG16.hdf5\n",
      "6680/6680 [==============================] - 1s - loss: 8.4231 - acc: 0.4760 - val_loss: 8.9873 - val_acc: 0.3904\n",
      "Epoch 29/32\n",
      "6592/6680 [============================>.] - ETA: 0s - loss: 8.2082 - acc: 0.4794Epoch 00028: val_loss improved from 8.98732 to 8.79273, saving model to saved_models/weights.best.VGG16.hdf5\n",
      "6680/6680 [==============================] - 0s - loss: 8.2109 - acc: 0.4792 - val_loss: 8.7927 - val_acc: 0.3844\n",
      "Epoch 30/32\n",
      "6304/6680 [===========================>..] - ETA: 0s - loss: 8.0362 - acc: 0.4910Epoch 00029: val_loss improved from 8.79273 to 8.77120, saving model to saved_models/weights.best.VGG16.hdf5\n",
      "6680/6680 [==============================] - 1s - loss: 8.0427 - acc: 0.4904 - val_loss: 8.7712 - val_acc: 0.3964\n",
      "Epoch 31/32\n",
      "6528/6680 [============================>.] - ETA: 0s - loss: 7.9126 - acc: 0.4980Epoch 00030: val_loss improved from 8.77120 to 8.56910, saving model to saved_models/weights.best.VGG16.hdf5\n",
      "6680/6680 [==============================] - 1s - loss: 7.9128 - acc: 0.4979 - val_loss: 8.5691 - val_acc: 0.4060\n",
      "Epoch 32/32\n",
      "6304/6680 [===========================>..] - ETA: 0s - loss: 7.7916 - acc: 0.5111Epoch 00031: val_loss improved from 8.56910 to 8.49626, saving model to saved_models/weights.best.VGG16.hdf5\n",
      "6680/6680 [==============================] - 1s - loss: 7.7808 - acc: 0.5118 - val_loss: 8.4963 - val_acc: 0.4132\n"
     ]
    },
    {
     "data": {
      "text/plain": [
       "<keras.callbacks.History at 0x12f450cf8>"
      ]
     },
     "execution_count": 73,
     "metadata": {},
     "output_type": "execute_result"
    }
   ],
   "source": [
    "checkpointer = ModelCheckpoint(filepath='saved_models/weights.best.VGG16.hdf5', \n",
    "                               verbose=1, save_best_only=True)\n",
    "\n",
    "VGG16_model.fit(train_VGG16, train_targets, \n",
    "          validation_data=(valid_VGG16, valid_targets),\n",
    "          epochs=32, batch_size=32, callbacks=[checkpointer], verbose=1)"
   ]
  },
  {
   "cell_type": "markdown",
   "metadata": {},
   "source": [
    "### Load the Model with the Best Validation Loss"
   ]
  },
  {
   "cell_type": "code",
   "execution_count": 74,
   "metadata": {},
   "outputs": [],
   "source": [
    "VGG16_model.load_weights('saved_models/weights.best.VGG16.hdf5')\n"
   ]
  },
  {
   "cell_type": "markdown",
   "metadata": {},
   "source": [
    "### Test the Model\n",
    "\n",
    "Now, we can use the CNN to test how well it identifies breed within our test dataset of dog images.  We print the test accuracy below."
   ]
  },
  {
   "cell_type": "code",
   "execution_count": 85,
   "metadata": {},
   "outputs": [
    {
     "name": "stdout",
     "output_type": "stream",
     "text": [
      "test accuracy: 43.5407%\n"
     ]
    }
   ],
   "source": [
    "# get index of predicted dog breed for each image in test set\n",
    "VGG16_predictions = [np.argmax(VGG16_model.predict(np.expand_dims(feature, axis=0))) for feature in test_VGG16]\n",
    "\n",
    "# report test accuracy\n",
    "test_accuracy = 100*np.sum(np.array(VGG16_predictions)==np.argmax(test_targets, axis=1))/len(VGG16_predictions)\n",
    "print('test accuracy: %.4f%%' % test_accuracy)"
   ]
  },
  {
   "cell_type": "markdown",
   "metadata": {},
   "source": [
    "### Predict Dog Breed with the Model"
   ]
  },
  {
   "cell_type": "code",
   "execution_count": 76,
   "metadata": {},
   "outputs": [],
   "source": [
    "from extract_bottleneck_features import *\n",
    "\n",
    "def VGG16_predict_breed(img_path):\n",
    "    # extract bottleneck features\n",
    "    bottleneck_feature = extract_VGG16(path_to_tensor(img_path))\n",
    "    # obtain predicted vector\n",
    "    predicted_vector = VGG16_model.predict(bottleneck_feature)\n",
    "    # return dog breed that is predicted by the model\n",
    "    return dog_names[np.argmax(predicted_vector)]"
   ]
  },
  {
   "cell_type": "markdown",
   "metadata": {},
   "source": [
    "---\n",
    "<a id='step5'></a>\n",
    "## Step 5: Create a CNN to Classify Dog Breeds (using Transfer Learning)\n",
    "\n",
    "You will now use transfer learning to create a CNN that can identify dog breed from images.  Your CNN must attain at least 60% accuracy on the test set.\n",
    "\n",
    "In Step 4, we used transfer learning to create a CNN using VGG-16 bottleneck features.  In this section, you must use the bottleneck features from a different pre-trained model.  To make things easier for you, we have pre-computed the features for all of the networks that are currently available in Keras:\n",
    "- [VGG-19](https://s3-us-west-1.amazonaws.com/udacity-aind/dog-project/DogVGG19Data.npz) bottleneck features\n",
    "- [ResNet-50](https://s3-us-west-1.amazonaws.com/udacity-aind/dog-project/DogResnet50Data.npz) bottleneck features\n",
    "- [Inception](https://s3-us-west-1.amazonaws.com/udacity-aind/dog-project/DogInceptionV3Data.npz) bottleneck features\n",
    "- [Xception](https://s3-us-west-1.amazonaws.com/udacity-aind/dog-project/DogXceptionData.npz) bottleneck features\n",
    "\n",
    "The files are encoded as such:\n",
    "\n",
    "    Dog{network}Data.npz\n",
    "    \n",
    "where `{network}`, in the above filename, can be one of `VGG19`, `Resnet50`, `InceptionV3`, or `Xception`.  Pick one of the above architectures, download the corresponding bottleneck features, and store the downloaded file in the `bottleneck_features/` folder in the repository.\n",
    "\n",
    "### (IMPLEMENTATION) Obtain Bottleneck Features\n",
    "\n",
    "In the code block below, extract the bottleneck features corresponding to the train, test, and validation sets by running the following:\n",
    "\n",
    "    bottleneck_features = np.load('bottleneck_features/Dog{network}Data.npz')\n",
    "    train_{network} = bottleneck_features['train']\n",
    "    valid_{network} = bottleneck_features['valid']\n",
    "    test_{network} = bottleneck_features['test']"
   ]
  },
  {
   "cell_type": "code",
   "execution_count": 77,
   "metadata": {},
   "outputs": [],
   "source": [
    "### TODO: Obtain bottleneck features from another pre-trained CNN.\n",
    "\n",
    "from sklearn.datasets import load_files       \n",
    "from keras.utils import np_utils\n",
    "import numpy as np\n",
    "from glob import glob\n",
    "\n",
    "bottleneck_features = np.load('bottleneck_features/DogXceptionData.npz')\n",
    "train_Xception = bottleneck_features['train']\n",
    "valid_Xception = bottleneck_features['valid']\n",
    "test_Xception = bottleneck_features['test']"
   ]
  },
  {
   "cell_type": "markdown",
   "metadata": {},
   "source": [
    "### (IMPLEMENTATION) Model Architecture\n",
    "\n",
    "Create a CNN to classify dog breed.  At the end of your code cell block, summarize the layers of your model by executing the line:\n",
    "    \n",
    "        <your model's name>.summary()\n",
    "   \n",
    "__Question 5:__ Outline the steps you took to get to your final CNN architecture and your reasoning at each step.  Describe why you think the architecture is suitable for the current problem.\n",
    "\n",
    "__Answer:__ \n",
    "\n",
    "I began from the architecture of VGG16 model transfer learning which is giving an accuracy of around 43.5%. The bottleneck features were extracted followed by global average pooling layer, and then dense layer of length 133. Initially, due to overfitting we had significantly high train accuracy as human_face: 0% vs dog_face: 100% the validation accuracy was extremely poor. \n",
    "\n",
    "I applied he next transfer learning model of Xception. Firstly, I extracted the bottleneck features for Xception model. I added layers such as global pooling and dropouts and then dense layer with sofftmax activation function. I compiled the model usinging 'categorical_crossentropy' as a loss function and 'rmsprop' as an optimizer. Then I have trained the model with 54 epochs and a batch size of 256. WMoreover by checkpointer I save the model of the one which obtains the best validation loss. After tuning the model I was getting around 84.5% accuracy. I thinkk it is not bad at all?\n",
    "\n"
   ]
  },
  {
   "cell_type": "code",
   "execution_count": 78,
   "metadata": {},
   "outputs": [
    {
     "name": "stdout",
     "output_type": "stream",
     "text": [
      "_________________________________________________________________\n",
      "Layer (type)                 Output Shape              Param #   \n",
      "=================================================================\n",
      "global_average_pooling2d_14  (None, 2048)              0         \n",
      "_________________________________________________________________\n",
      "dropout_14 (Dropout)         (None, 2048)              0         \n",
      "_________________________________________________________________\n",
      "dense_14 (Dense)             (None, 133)               272517    \n",
      "=================================================================\n",
      "Total params: 272,517.0\n",
      "Trainable params: 272,517.0\n",
      "Non-trainable params: 0.0\n",
      "_________________________________________________________________\n"
     ]
    }
   ],
   "source": [
    "### TODO: Define your architecture.\n",
    "from keras.layers import Conv2D, MaxPooling2D, GlobalAveragePooling2D\n",
    "from keras.layers import Dropout, Flatten, Dense\n",
    "from keras.models import Sequential\n",
    "\n",
    "Xception_model = Sequential()\n",
    "#Resnet50_model.add(Dropout(0.2))\n",
    "Xception_model.add(GlobalAveragePooling2D(input_shape=train_Xception.shape[1:]))\n",
    "Xception_model.add(Dropout(0.2))\n",
    "Xception_model.add(Dense(133, activation='softmax'))\n",
    "\n",
    "Xception_model.summary()"
   ]
  },
  {
   "cell_type": "markdown",
   "metadata": {},
   "source": [
    "### (IMPLEMENTATION) Compile the Model"
   ]
  },
  {
   "cell_type": "code",
   "execution_count": 79,
   "metadata": {},
   "outputs": [],
   "source": [
    "### TODO: Compile the model.\n",
    "\n",
    "Xception_model.compile(loss='categorical_crossentropy', optimizer='rmsprop', metrics=['accuracy'])\n"
   ]
  },
  {
   "cell_type": "markdown",
   "metadata": {},
   "source": [
    "### (IMPLEMENTATION) Train the Model\n",
    "\n",
    "Train your model in the code cell below.  Use model checkpointing to save the model that attains the best validation loss.  \n",
    "\n",
    "You are welcome to [augment the training data](https://blog.keras.io/building-powerful-image-classification-models-using-very-little-data.html), but this is not a requirement. "
   ]
  },
  {
   "cell_type": "code",
   "execution_count": 80,
   "metadata": {},
   "outputs": [
    {
     "name": "stdout",
     "output_type": "stream",
     "text": [
      "Train on 6680 samples, validate on 835 samples\n",
      "Epoch 1/64\n",
      "6656/6680 [============================>.] - ETA: 0s - loss: 2.2437 - acc: 0.5978Epoch 00000: val_loss improved from inf to 1.05119, saving model to saved_models/weights.best.Xception.hdf5\n",
      "6680/6680 [==============================] - 7s - loss: 2.2388 - acc: 0.5985 - val_loss: 1.0512 - val_acc: 0.7952\n",
      "Epoch 2/64\n",
      "6656/6680 [============================>.] - ETA: 0s - loss: 0.7716 - acc: 0.8332Epoch 00001: val_loss improved from 1.05119 to 0.70319, saving model to saved_models/weights.best.Xception.hdf5\n",
      "6680/6680 [==============================] - 2s - loss: 0.7710 - acc: 0.8334 - val_loss: 0.7032 - val_acc: 0.8072\n",
      "Epoch 3/64\n",
      "6656/6680 [============================>.] - ETA: 0s - loss: 0.5173 - acc: 0.8693Epoch 00002: val_loss improved from 0.70319 to 0.55376, saving model to saved_models/weights.best.Xception.hdf5\n",
      "6680/6680 [==============================] - 2s - loss: 0.5166 - acc: 0.8695 - val_loss: 0.5538 - val_acc: 0.8491\n",
      "Epoch 4/64\n",
      "6656/6680 [============================>.] - ETA: 0s - loss: 0.4011 - acc: 0.8954Epoch 00003: val_loss improved from 0.55376 to 0.51733, saving model to saved_models/weights.best.Xception.hdf5\n",
      "6680/6680 [==============================] - 2s - loss: 0.4008 - acc: 0.8957 - val_loss: 0.5173 - val_acc: 0.8383\n",
      "Epoch 5/64\n",
      "6656/6680 [============================>.] - ETA: 0s - loss: 0.3311 - acc: 0.9093Epoch 00004: val_loss improved from 0.51733 to 0.49155, saving model to saved_models/weights.best.Xception.hdf5\n",
      "6680/6680 [==============================] - 2s - loss: 0.3307 - acc: 0.9096 - val_loss: 0.4915 - val_acc: 0.8563\n",
      "Epoch 6/64\n",
      "6656/6680 [============================>.] - ETA: 0s - loss: 0.2837 - acc: 0.9199Epoch 00005: val_loss improved from 0.49155 to 0.46074, saving model to saved_models/weights.best.Xception.hdf5\n",
      "6680/6680 [==============================] - 2s - loss: 0.2830 - acc: 0.9201 - val_loss: 0.4607 - val_acc: 0.8551\n",
      "Epoch 7/64\n",
      "6656/6680 [============================>.] - ETA: 0s - loss: 0.2445 - acc: 0.9328Epoch 00006: val_loss improved from 0.46074 to 0.45928, saving model to saved_models/weights.best.Xception.hdf5\n",
      "6680/6680 [==============================] - 2s - loss: 0.2446 - acc: 0.9328 - val_loss: 0.4593 - val_acc: 0.8467\n",
      "Epoch 8/64\n",
      "6656/6680 [============================>.] - ETA: 0s - loss: 0.2153 - acc: 0.9431Epoch 00007: val_loss improved from 0.45928 to 0.44594, saving model to saved_models/weights.best.Xception.hdf5\n",
      "6680/6680 [==============================] - 2s - loss: 0.2149 - acc: 0.9431 - val_loss: 0.4459 - val_acc: 0.8683\n",
      "Epoch 9/64\n",
      "6656/6680 [============================>.] - ETA: 0s - loss: 0.1929 - acc: 0.9485Epoch 00008: val_loss improved from 0.44594 to 0.43842, saving model to saved_models/weights.best.Xception.hdf5\n",
      "6680/6680 [==============================] - 2s - loss: 0.1929 - acc: 0.9485 - val_loss: 0.4384 - val_acc: 0.8683\n",
      "Epoch 10/64\n",
      "6656/6680 [============================>.] - ETA: 0s - loss: 0.1706 - acc: 0.9581Epoch 00009: val_loss did not improve\n",
      "6680/6680 [==============================] - 2s - loss: 0.1710 - acc: 0.9578 - val_loss: 0.4448 - val_acc: 0.8599\n",
      "Epoch 11/64\n",
      "6656/6680 [============================>.] - ETA: 0s - loss: 0.1492 - acc: 0.9627Epoch 00010: val_loss did not improve\n",
      "6680/6680 [==============================] - 2s - loss: 0.1496 - acc: 0.9624 - val_loss: 0.4479 - val_acc: 0.8527\n",
      "Epoch 12/64\n",
      "6656/6680 [============================>.] - ETA: 0s - loss: 0.1346 - acc: 0.9684Epoch 00011: val_loss did not improve\n",
      "6680/6680 [==============================] - 2s - loss: 0.1344 - acc: 0.9686 - val_loss: 0.4485 - val_acc: 0.8683\n",
      "Epoch 13/64\n",
      "6656/6680 [============================>.] - ETA: 0s - loss: 0.1220 - acc: 0.9725Epoch 00012: val_loss did not improve\n",
      "6680/6680 [==============================] - 2s - loss: 0.1220 - acc: 0.9723 - val_loss: 0.4512 - val_acc: 0.8491\n",
      "Epoch 14/64\n",
      "6656/6680 [============================>.] - ETA: 0s - loss: 0.1115 - acc: 0.9745Epoch 00013: val_loss did not improve\n",
      "6680/6680 [==============================] - 2s - loss: 0.1114 - acc: 0.9746 - val_loss: 0.4438 - val_acc: 0.8587\n",
      "Epoch 15/64\n",
      "6656/6680 [============================>.] - ETA: 0s - loss: 0.1007 - acc: 0.9793Epoch 00014: val_loss did not improve\n",
      "6680/6680 [==============================] - 2s - loss: 0.1008 - acc: 0.9793 - val_loss: 0.4608 - val_acc: 0.8431\n",
      "Epoch 16/64\n",
      "6656/6680 [============================>.] - ETA: 0s - loss: 0.0914 - acc: 0.9824Epoch 00015: val_loss did not improve\n",
      "6680/6680 [==============================] - 2s - loss: 0.0915 - acc: 0.9825 - val_loss: 0.4537 - val_acc: 0.8563\n",
      "Epoch 17/64\n",
      "6656/6680 [============================>.] - ETA: 0s - loss: 0.0836 - acc: 0.9836Epoch 00016: val_loss did not improve\n",
      "6680/6680 [==============================] - 2s - loss: 0.0834 - acc: 0.9837 - val_loss: 0.4717 - val_acc: 0.8527\n",
      "Epoch 18/64\n",
      "6656/6680 [============================>.] - ETA: 0s - loss: 0.0769 - acc: 0.9853Epoch 00017: val_loss did not improve\n",
      "6680/6680 [==============================] - 2s - loss: 0.0770 - acc: 0.9852 - val_loss: 0.4559 - val_acc: 0.8599\n",
      "Epoch 19/64\n",
      "6656/6680 [============================>.] - ETA: 0s - loss: 0.0708 - acc: 0.9869Epoch 00018: val_loss did not improve\n",
      "6680/6680 [==============================] - 2s - loss: 0.0709 - acc: 0.9868 - val_loss: 0.4663 - val_acc: 0.8611\n",
      "Epoch 20/64\n",
      "6656/6680 [============================>.] - ETA: 0s - loss: 0.0649 - acc: 0.9880Epoch 00019: val_loss did not improve\n",
      "6680/6680 [==============================] - 2s - loss: 0.0649 - acc: 0.9879 - val_loss: 0.4740 - val_acc: 0.8587\n",
      "Epoch 21/64\n",
      "6656/6680 [============================>.] - ETA: 0s - loss: 0.0589 - acc: 0.9910Epoch 00020: val_loss did not improve\n",
      "6680/6680 [==============================] - 2s - loss: 0.0588 - acc: 0.9910 - val_loss: 0.4668 - val_acc: 0.8599\n",
      "Epoch 22/64\n",
      "6656/6680 [============================>.] - ETA: 0s - loss: 0.0553 - acc: 0.9904Epoch 00021: val_loss did not improve\n",
      "6680/6680 [==============================] - 2s - loss: 0.0552 - acc: 0.9904 - val_loss: 0.4682 - val_acc: 0.8599\n",
      "Epoch 23/64\n",
      "6656/6680 [============================>.] - ETA: 0s - loss: 0.0512 - acc: 0.9922Epoch 00022: val_loss did not improve\n",
      "6680/6680 [==============================] - 2s - loss: 0.0511 - acc: 0.9922 - val_loss: 0.4744 - val_acc: 0.8611\n",
      "Epoch 24/64\n",
      "6656/6680 [============================>.] - ETA: 0s - loss: 0.0477 - acc: 0.9919Epoch 00023: val_loss did not improve\n",
      "6680/6680 [==============================] - 2s - loss: 0.0477 - acc: 0.9919 - val_loss: 0.4919 - val_acc: 0.8599\n",
      "Epoch 25/64\n",
      "6656/6680 [============================>.] - ETA: 0s - loss: 0.0459 - acc: 0.9916Epoch 00024: val_loss did not improve\n",
      "6680/6680 [==============================] - 2s - loss: 0.0461 - acc: 0.9915 - val_loss: 0.4933 - val_acc: 0.8587\n",
      "Epoch 26/64\n",
      "6656/6680 [============================>.] - ETA: 0s - loss: 0.0402 - acc: 0.9949Epoch 00025: val_loss did not improve\n",
      "6680/6680 [==============================] - 2s - loss: 0.0401 - acc: 0.9949 - val_loss: 0.4935 - val_acc: 0.8587\n",
      "Epoch 27/64\n",
      "6656/6680 [============================>.] - ETA: 0s - loss: 0.0377 - acc: 0.9943Epoch 00026: val_loss did not improve\n",
      "6680/6680 [==============================] - 2s - loss: 0.0378 - acc: 0.9943 - val_loss: 0.4812 - val_acc: 0.8599\n",
      "Epoch 28/64\n",
      "6656/6680 [============================>.] - ETA: 0s - loss: 0.0360 - acc: 0.9941Epoch 00027: val_loss did not improve\n",
      "6680/6680 [==============================] - 2s - loss: 0.0362 - acc: 0.9939 - val_loss: 0.4899 - val_acc: 0.8623\n",
      "Epoch 29/64\n",
      "6656/6680 [============================>.] - ETA: 0s - loss: 0.0329 - acc: 0.9962Epoch 00028: val_loss did not improve\n",
      "6680/6680 [==============================] - 2s - loss: 0.0329 - acc: 0.9963 - val_loss: 0.5098 - val_acc: 0.8599\n",
      "Epoch 30/64\n",
      "6656/6680 [============================>.] - ETA: 0s - loss: 0.0315 - acc: 0.9955Epoch 00029: val_loss did not improve\n",
      "6680/6680 [==============================] - 2s - loss: 0.0315 - acc: 0.9955 - val_loss: 0.5030 - val_acc: 0.8611\n",
      "Epoch 31/64\n",
      "6656/6680 [============================>.] - ETA: 0s - loss: 0.0293 - acc: 0.9955Epoch 00030: val_loss did not improve\n"
     ]
    },
    {
     "name": "stdout",
     "output_type": "stream",
     "text": [
      "6680/6680 [==============================] - 2s - loss: 0.0295 - acc: 0.9955 - val_loss: 0.5096 - val_acc: 0.8647\n",
      "Epoch 32/64\n",
      "6656/6680 [============================>.] - ETA: 0s - loss: 0.0278 - acc: 0.9961Epoch 00031: val_loss did not improve\n",
      "6680/6680 [==============================] - 2s - loss: 0.0277 - acc: 0.9961 - val_loss: 0.5067 - val_acc: 0.8611\n",
      "Epoch 33/64\n",
      "6656/6680 [============================>.] - ETA: 0s - loss: 0.0260 - acc: 0.9961Epoch 00032: val_loss did not improve\n",
      "6680/6680 [==============================] - 2s - loss: 0.0261 - acc: 0.9961 - val_loss: 0.5193 - val_acc: 0.8611\n",
      "Epoch 34/64\n",
      "6656/6680 [============================>.] - ETA: 0s - loss: 0.0239 - acc: 0.9964Epoch 00033: val_loss did not improve\n",
      "6680/6680 [==============================] - 2s - loss: 0.0239 - acc: 0.9964 - val_loss: 0.4988 - val_acc: 0.8647\n",
      "Epoch 35/64\n",
      "6656/6680 [============================>.] - ETA: 0s - loss: 0.0228 - acc: 0.9970Epoch 00034: val_loss did not improve\n",
      "6680/6680 [==============================] - 2s - loss: 0.0228 - acc: 0.9970 - val_loss: 0.5188 - val_acc: 0.8683\n",
      "Epoch 36/64\n",
      "6656/6680 [============================>.] - ETA: 0s - loss: 0.0220 - acc: 0.9970Epoch 00035: val_loss did not improve\n",
      "6680/6680 [==============================] - 2s - loss: 0.0219 - acc: 0.9970 - val_loss: 0.5191 - val_acc: 0.8563\n",
      "Epoch 37/64\n",
      "6656/6680 [============================>.] - ETA: 0s - loss: 0.0208 - acc: 0.9970Epoch 00036: val_loss did not improve\n",
      "6680/6680 [==============================] - 2s - loss: 0.0207 - acc: 0.9970 - val_loss: 0.5308 - val_acc: 0.8611\n",
      "Epoch 38/64\n",
      "6656/6680 [============================>.] - ETA: 0s - loss: 0.0194 - acc: 0.9971Epoch 00037: val_loss did not improve\n",
      "6680/6680 [==============================] - 2s - loss: 0.0194 - acc: 0.9972 - val_loss: 0.5202 - val_acc: 0.8623\n",
      "Epoch 39/64\n",
      "6656/6680 [============================>.] - ETA: 0s - loss: 0.0186 - acc: 0.9973Epoch 00038: val_loss did not improve\n",
      "6680/6680 [==============================] - 2s - loss: 0.0185 - acc: 0.9973 - val_loss: 0.5387 - val_acc: 0.8599\n",
      "Epoch 40/64\n",
      "6656/6680 [============================>.] - ETA: 0s - loss: 0.0170 - acc: 0.9980Epoch 00039: val_loss did not improve\n",
      "6680/6680 [==============================] - 2s - loss: 0.0171 - acc: 0.9981 - val_loss: 0.5514 - val_acc: 0.8575\n",
      "Epoch 41/64\n",
      "6656/6680 [============================>.] - ETA: 0s - loss: 0.0166 - acc: 0.9980Epoch 00040: val_loss did not improve\n",
      "6680/6680 [==============================] - 2s - loss: 0.0166 - acc: 0.9981 - val_loss: 0.5374 - val_acc: 0.8611\n",
      "Epoch 42/64\n",
      "6656/6680 [============================>.] - ETA: 0s - loss: 0.0150 - acc: 0.9982Epoch 00041: val_loss did not improve\n",
      "6680/6680 [==============================] - 2s - loss: 0.0150 - acc: 0.9982 - val_loss: 0.5564 - val_acc: 0.8611\n",
      "Epoch 43/64\n",
      "6656/6680 [============================>.] - ETA: 0s - loss: 0.0153 - acc: 0.9982Epoch 00042: val_loss did not improve\n",
      "6680/6680 [==============================] - 2s - loss: 0.0153 - acc: 0.9982 - val_loss: 0.5521 - val_acc: 0.8599\n",
      "Epoch 44/64\n",
      "6656/6680 [============================>.] - ETA: 0s - loss: 0.0147 - acc: 0.9979Epoch 00043: val_loss did not improve\n",
      "6680/6680 [==============================] - 2s - loss: 0.0147 - acc: 0.9979 - val_loss: 0.5617 - val_acc: 0.8635\n",
      "Epoch 45/64\n",
      "6656/6680 [============================>.] - ETA: 0s - loss: 0.0136 - acc: 0.9983Epoch 00044: val_loss did not improve\n",
      "6680/6680 [==============================] - 2s - loss: 0.0136 - acc: 0.9984 - val_loss: 0.5768 - val_acc: 0.8587\n",
      "Epoch 46/64\n",
      "6656/6680 [============================>.] - ETA: 0s - loss: 0.0138 - acc: 0.9974Epoch 00045: val_loss did not improve\n",
      "6680/6680 [==============================] - 2s - loss: 0.0138 - acc: 0.9975 - val_loss: 0.5586 - val_acc: 0.8539\n",
      "Epoch 47/64\n",
      "6656/6680 [============================>.] - ETA: 0s - loss: 0.0125 - acc: 0.9982Epoch 00046: val_loss did not improve\n",
      "6680/6680 [==============================] - 2s - loss: 0.0125 - acc: 0.9982 - val_loss: 0.5827 - val_acc: 0.8575\n",
      "Epoch 48/64\n",
      "6656/6680 [============================>.] - ETA: 0s - loss: 0.0116 - acc: 0.9983Epoch 00047: val_loss did not improve\n",
      "6680/6680 [==============================] - 2s - loss: 0.0115 - acc: 0.9984 - val_loss: 0.5664 - val_acc: 0.8587\n",
      "Epoch 49/64\n",
      "6656/6680 [============================>.] - ETA: 0s - loss: 0.0115 - acc: 0.9983Epoch 00048: val_loss did not improve\n",
      "6680/6680 [==============================] - 2s - loss: 0.0115 - acc: 0.9984 - val_loss: 0.5806 - val_acc: 0.8623\n",
      "Epoch 50/64\n",
      "6656/6680 [============================>.] - ETA: 0s - loss: 0.0104 - acc: 0.9989Epoch 00049: val_loss did not improve\n",
      "6680/6680 [==============================] - 2s - loss: 0.0104 - acc: 0.9990 - val_loss: 0.5982 - val_acc: 0.8611\n",
      "Epoch 51/64\n",
      "6656/6680 [============================>.] - ETA: 0s - loss: 0.0104 - acc: 0.9980Epoch 00050: val_loss did not improve\n",
      "6680/6680 [==============================] - 2s - loss: 0.0104 - acc: 0.9981 - val_loss: 0.5961 - val_acc: 0.8611\n",
      "Epoch 52/64\n",
      "6656/6680 [============================>.] - ETA: 0s - loss: 0.0101 - acc: 0.9980Epoch 00051: val_loss did not improve\n",
      "6680/6680 [==============================] - 2s - loss: 0.0101 - acc: 0.9981 - val_loss: 0.5871 - val_acc: 0.8611\n",
      "Epoch 53/64\n",
      "6656/6680 [============================>.] - ETA: 0s - loss: 0.0095 - acc: 0.9986Epoch 00052: val_loss did not improve\n",
      "6680/6680 [==============================] - 2s - loss: 0.0095 - acc: 0.9987 - val_loss: 0.5965 - val_acc: 0.8575\n",
      "Epoch 54/64\n",
      "6656/6680 [============================>.] - ETA: 0s - loss: 0.0097 - acc: 0.9977Epoch 00053: val_loss did not improve\n",
      "6680/6680 [==============================] - 2s - loss: 0.0097 - acc: 0.9978 - val_loss: 0.6016 - val_acc: 0.8515\n",
      "Epoch 55/64\n",
      "6656/6680 [============================>.] - ETA: 0s - loss: 0.0089 - acc: 0.9988Epoch 00054: val_loss did not improve\n",
      "6680/6680 [==============================] - 2s - loss: 0.0088 - acc: 0.9988 - val_loss: 0.6145 - val_acc: 0.8503\n",
      "Epoch 56/64\n",
      "6656/6680 [============================>.] - ETA: 0s - loss: 0.0085 - acc: 0.9983Epoch 00055: val_loss did not improve\n",
      "6680/6680 [==============================] - 2s - loss: 0.0085 - acc: 0.9984 - val_loss: 0.6103 - val_acc: 0.8611\n",
      "Epoch 57/64\n",
      "6656/6680 [============================>.] - ETA: 0s - loss: 0.0092 - acc: 0.9979Epoch 00056: val_loss did not improve\n",
      "6680/6680 [==============================] - 2s - loss: 0.0092 - acc: 0.9979 - val_loss: 0.6165 - val_acc: 0.8599\n",
      "Epoch 58/64\n",
      "6656/6680 [============================>.] - ETA: 0s - loss: 0.0080 - acc: 0.9985Epoch 00057: val_loss did not improve\n",
      "6680/6680 [==============================] - 2s - loss: 0.0079 - acc: 0.9985 - val_loss: 0.6183 - val_acc: 0.8635\n",
      "Epoch 59/64\n",
      "6656/6680 [============================>.] - ETA: 0s - loss: 0.0078 - acc: 0.9986Epoch 00058: val_loss did not improve\n",
      "6680/6680 [==============================] - 2s - loss: 0.0078 - acc: 0.9987 - val_loss: 0.6230 - val_acc: 0.8575\n",
      "Epoch 60/64\n",
      "6656/6680 [============================>.] - ETA: 0s - loss: 0.0075 - acc: 0.9988Epoch 00059: val_loss did not improve\n",
      "6680/6680 [==============================] - 2s - loss: 0.0075 - acc: 0.9988 - val_loss: 0.6195 - val_acc: 0.8635\n",
      "Epoch 61/64\n",
      "6656/6680 [============================>.] - ETA: 0s - loss: 0.0073 - acc: 0.9985Epoch 00060: val_loss did not improve\n",
      "6680/6680 [==============================] - 2s - loss: 0.0073 - acc: 0.9985 - val_loss: 0.6232 - val_acc: 0.8599\n",
      "Epoch 62/64\n",
      "6656/6680 [============================>.] - ETA: 0s - loss: 0.0068 - acc: 0.9986Epoch 00061: val_loss did not improve\n",
      "6680/6680 [==============================] - 2s - loss: 0.0069 - acc: 0.9985 - val_loss: 0.6406 - val_acc: 0.8539\n",
      "Epoch 63/64\n",
      "6656/6680 [============================>.] - ETA: 0s - loss: 0.0063 - acc: 0.9992Epoch 00062: val_loss did not improve\n",
      "6680/6680 [==============================] - 2s - loss: 0.0063 - acc: 0.9993 - val_loss: 0.6359 - val_acc: 0.8635\n",
      "Epoch 64/64\n",
      "6656/6680 [============================>.] - ETA: 0s - loss: 0.0066 - acc: 0.9986Epoch 00063: val_loss did not improve\n"
     ]
    },
    {
     "name": "stdout",
     "output_type": "stream",
     "text": [
      "6680/6680 [==============================] - 2s - loss: 0.0066 - acc: 0.9987 - val_loss: 0.6498 - val_acc: 0.8527\n"
     ]
    },
    {
     "data": {
      "text/plain": [
       "<keras.callbacks.History at 0x12fa90dd8>"
      ]
     },
     "execution_count": 80,
     "metadata": {},
     "output_type": "execute_result"
    }
   ],
   "source": [
    "### TODO: Train the model.\n",
    "\n",
    "checkpointer = ModelCheckpoint(filepath='saved_models/weights.best.Xception.hdf5', \n",
    "                               verbose=1, save_best_only=True)\n",
    "\n",
    "Xception_model.fit(train_Xception, train_targets, \n",
    "          validation_data=(valid_Xception, valid_targets),\n",
    "          epochs=64, batch_size=256, callbacks=[checkpointer], verbose=1)"
   ]
  },
  {
   "cell_type": "markdown",
   "metadata": {},
   "source": [
    "### (IMPLEMENTATION) Load the Model with the Best Validation Loss"
   ]
  },
  {
   "cell_type": "code",
   "execution_count": 88,
   "metadata": {},
   "outputs": [],
   "source": [
    "### TODO: Load the model weights with the best validation loss.\n",
    "\n",
    "Xception_model.load_weights('saved_models/weights.best.Xception.hdf5')\n"
   ]
  },
  {
   "cell_type": "markdown",
   "metadata": {},
   "source": [
    "### (IMPLEMENTATION) Test the Model\n",
    "\n",
    "Try out your model on the test dataset of dog images. Ensure that your test accuracy is greater than 60%."
   ]
  },
  {
   "cell_type": "code",
   "execution_count": 84,
   "metadata": {},
   "outputs": [
    {
     "name": "stdout",
     "output_type": "stream",
     "text": [
      "Test accuracy: 84.5694%\n"
     ]
    }
   ],
   "source": [
    "### TODO: Calculate classification accuracy on the test dataset.\n",
    "Xception_predictions = [np.argmax(Xception_model.predict(np.expand_dims(feature, axis=0))) for feature in test_Xception]\n",
    "\n",
    "\n",
    "#report test accuracy\n",
    "test_accuracy = 100*np.sum(np.array(Xception_predictions)==np.argmax(test_targets, axis=1))/len(Xception_predictions)\n",
    "print('Test accuracy: %.4f%%' % test_accuracy)"
   ]
  },
  {
   "cell_type": "markdown",
   "metadata": {},
   "source": [
    "### (IMPLEMENTATION) Predict Dog Breed with the Model\n",
    "\n",
    "Write a function that takes an image path as input and returns the dog breed (`Affenpinscher`, `Afghan_hound`, etc) that is predicted by your model.  \n",
    "\n",
    "Similar to the analogous function in Step 5, your function should have three steps:\n",
    "1. Extract the bottleneck features corresponding to the chosen CNN model.\n",
    "2. Supply the bottleneck features as input to the model to return the predicted vector.  Note that the argmax of this prediction vector gives the index of the predicted dog breed.\n",
    "3. Use the `dog_names` array defined in Step 0 of this notebook to return the corresponding breed.\n",
    "\n",
    "The functions to extract the bottleneck features can be found in `extract_bottleneck_features.py`, and they have been imported in an earlier code cell.  To obtain the bottleneck features corresponding to your chosen CNN architecture, you need to use the function\n",
    "\n",
    "    extract_{network}\n",
    "    \n",
    "where `{network}`, in the above filename, should be one of `VGG19`, `Resnet50`, `InceptionV3`, or `Xception`."
   ]
  },
  {
   "cell_type": "code",
   "execution_count": 83,
   "metadata": {},
   "outputs": [],
   "source": [
    "### TODO: Write a function that takes a path to an image as input\n",
    "### and returns the dog breed that is predicted by the model.\n",
    "\n",
    "\n",
    "from extract_bottleneck_features import *\n",
    "\n",
    "def Xception_predict_breed(img_path):\n",
    "    # extract bottleneck features for Xception Model\n",
    "    bottleneck_feature = extract_Xception(path_to_tensor(img_path))\n",
    "    # get predicted vector\n",
    "    predicted_vector = Xception_model.predict(bottleneck_feature)\n",
    "    # return dog breed \n",
    "    return dog_names[np.argmax(predicted_vector)]"
   ]
  },
  {
   "cell_type": "markdown",
   "metadata": {},
   "source": [
    "---\n",
    "<a id='step6'></a>\n",
    "## Step 6: Write your Algorithm\n",
    "\n",
    "Write an algorithm that accepts a file path to an image and first determines whether the image contains a human, dog, or neither.  Then,\n",
    "- if a __dog__ is detected in the image, return the predicted breed.\n",
    "- if a __human__ is detected in the image, return the resembling dog breed.\n",
    "- if __neither__ is detected in the image, provide output that indicates an error.\n",
    "\n",
    "You are welcome to write your own functions for detecting humans and dogs in images, but feel free to use the `face_detector` and `dog_detector` functions developed above.  You are __required__ to use your CNN from Step 5 to predict dog breed.  \n",
    "\n",
    "Some sample output for our algorithm is provided below, but feel free to design your own user experience!\n",
    "\n",
    "![Sample Human Output](images/sample_human_output.png)\n",
    "\n",
    "\n",
    "### (IMPLEMENTATION) Write your Algorithm"
   ]
  },
  {
   "cell_type": "code",
   "execution_count": 89,
   "metadata": {},
   "outputs": [],
   "source": [
    "### TODO: Write your algorithm.\n",
    "### Feel free to use as many code cells as needed.\n",
    "\n",
    "from keras.preprocessing import image                  \n",
    "from os import walk\n",
    "from os import listdir\n",
    "from os.path import isfile, join\n",
    "import random\n",
    "import numpy as np\n",
    "import cv2\n",
    "\n",
    "\n",
    "def show_image(path):\n",
    "    img = image.load_img(path, target_size=(224, 224))\n",
    "    img = image.img_to_array(img)\n",
    "    plt.imshow(img/255)\n",
    "    plt.show()\n",
    "    \n",
    "    \n",
    "    \n",
    "    "
   ]
  },
  {
   "cell_type": "code",
   "execution_count": 94,
   "metadata": {},
   "outputs": [],
   "source": [
    "import numpy as np\n",
    "import cv2\n",
    "\n",
    "#Function\n",
    "def predicts_dog_breed(path):\n",
    "    oriimage = cv2.imread(path,-1) #Takes the \n",
    "    newx,newy = 224,224 #new size (w,h)\n",
    "    #Takes the original image and converts it into (224,224)\n",
    "    img_path = cv2.resize(oriimage,(newx,newy))\n",
    "    cv2.imwrite('test_edit.jpg',img_path)# saving the edited image as test_edit\n",
    "    show_image('test_edit.jpg')\n",
    "    \n",
    "    \n",
    "    if (face_detector(path)): #if it's a human\n",
    "        print (\" Image contains a human: \")\n",
    "        dog_breed = Resnet50_predict_breed('test_edit.jpg')\n",
    "        print (\" Which looks like a : \", dog_breed )\n",
    "    \n",
    "    elif (dog_detector('test_edit.jpg')==1): #if it's a dog\n",
    "        print(\" Hey ! This is a dog \")\n",
    "        dog_breed = Resnet50_predict_breed('test_edit.jpg')\n",
    "        print (\" The dog's breed is  :\", dog_breed )\n",
    "\n",
    "    else: #for something else\n",
    "        print (\" This is something else \")"
   ]
  },
  {
   "cell_type": "markdown",
   "metadata": {},
   "source": [
    "---\n",
    "<a id='step7'></a>\n",
    "## Step 7: Test Your Algorithm\n",
    "\n",
    "In this section, you will take your new algorithm for a spin!  What kind of dog does the algorithm think that __you__ look like?  If you have a dog, does it predict your dog's breed accurately?  If you have a cat, does it mistakenly think that your cat is a dog?\n",
    "\n",
    "### (IMPLEMENTATION) Test Your Algorithm on Sample Images!\n",
    "\n",
    "Test your algorithm at least six images on your computer.  Feel free to use any images you like.  Use at least two human and two dog images.  \n",
    "\n",
    "__Question 6:__ Is the output better than you expected :) ?  Or worse :( ?  Provide at least three possible points of improvement for your algorithm.\n",
    "\n",
    "__Answer:__ "
   ]
  },
  {
   "cell_type": "code",
   "execution_count": 95,
   "metadata": {},
   "outputs": [
    {
     "ename": "error",
     "evalue": "/Users/travis/build/skvark/opencv-python/opencv/modules/imgproc/src/imgwarp.cpp:3492: error: (-215) ssize.width > 0 && ssize.height > 0 in function resize\n",
     "output_type": "error",
     "traceback": [
      "\u001b[0;31m---------------------------------------------------------------------------\u001b[0m",
      "\u001b[0;31merror\u001b[0m                                     Traceback (most recent call last)",
      "\u001b[0;32m<ipython-input-95-aaf08f3bfa82>\u001b[0m in \u001b[0;36m<module>\u001b[0;34m()\u001b[0m\n\u001b[1;32m      5\u001b[0m \u001b[0;34m\u001b[0m\u001b[0m\n\u001b[1;32m      6\u001b[0m \u001b[0;34m\u001b[0m\u001b[0m\n\u001b[0;32m----> 7\u001b[0;31m \u001b[0mpredicts_dog_breed\u001b[0m\u001b[0;34m(\u001b[0m\u001b[0;34m'images15_04'\u001b[0m\u001b[0;34m)\u001b[0m\u001b[0;34m\u001b[0m\u001b[0m\n\u001b[0m",
      "\u001b[0;32m<ipython-input-94-ace6fd543600>\u001b[0m in \u001b[0;36mpredicts_dog_breed\u001b[0;34m(path)\u001b[0m\n\u001b[1;32m      7\u001b[0m     \u001b[0mnewx\u001b[0m\u001b[0;34m,\u001b[0m\u001b[0mnewy\u001b[0m \u001b[0;34m=\u001b[0m \u001b[0;36m224\u001b[0m\u001b[0;34m,\u001b[0m\u001b[0;36m224\u001b[0m \u001b[0;31m#new size (w,h)\u001b[0m\u001b[0;34m\u001b[0m\u001b[0m\n\u001b[1;32m      8\u001b[0m     \u001b[0;31m#Takes the original image and converts it into (224,224)\u001b[0m\u001b[0;34m\u001b[0m\u001b[0;34m\u001b[0m\u001b[0m\n\u001b[0;32m----> 9\u001b[0;31m     \u001b[0mimg_path\u001b[0m \u001b[0;34m=\u001b[0m \u001b[0mcv2\u001b[0m\u001b[0;34m.\u001b[0m\u001b[0mresize\u001b[0m\u001b[0;34m(\u001b[0m\u001b[0moriimage\u001b[0m\u001b[0;34m,\u001b[0m\u001b[0;34m(\u001b[0m\u001b[0mnewx\u001b[0m\u001b[0;34m,\u001b[0m\u001b[0mnewy\u001b[0m\u001b[0;34m)\u001b[0m\u001b[0;34m)\u001b[0m\u001b[0;34m\u001b[0m\u001b[0m\n\u001b[0m\u001b[1;32m     10\u001b[0m     \u001b[0mcv2\u001b[0m\u001b[0;34m.\u001b[0m\u001b[0mimwrite\u001b[0m\u001b[0;34m(\u001b[0m\u001b[0;34m'test_edit.jpg'\u001b[0m\u001b[0;34m,\u001b[0m\u001b[0mimg_path\u001b[0m\u001b[0;34m)\u001b[0m\u001b[0;31m# saving the edited image as test_edit\u001b[0m\u001b[0;34m\u001b[0m\u001b[0m\n\u001b[1;32m     11\u001b[0m     \u001b[0mshow_image\u001b[0m\u001b[0;34m(\u001b[0m\u001b[0;34m'test_edit.jpg'\u001b[0m\u001b[0;34m)\u001b[0m\u001b[0;34m\u001b[0m\u001b[0m\n",
      "\u001b[0;31merror\u001b[0m: /Users/travis/build/skvark/opencv-python/opencv/modules/imgproc/src/imgwarp.cpp:3492: error: (-215) ssize.width > 0 && ssize.height > 0 in function resize\n"
     ]
    }
   ],
   "source": [
    "## TODO: Execute your algorithm from Step 6 on\n",
    "## at least 6 images on your computer.\n",
    "## Feel free to use as many code cells as needed.\n",
    "\n",
    "\n",
    "\n",
    "predicts_dog_breed('images15_04')"
   ]
  },
  {
   "cell_type": "code",
   "execution_count": null,
   "metadata": {},
   "outputs": [],
   "source": []
  }
 ],
 "metadata": {
  "anaconda-cloud": {},
  "kernelspec": {
   "display_name": "dog-project",
   "language": "python",
   "name": "dog-project"
  },
  "language_info": {
   "codemirror_mode": {
    "name": "ipython",
    "version": 3
   },
   "file_extension": ".py",
   "mimetype": "text/x-python",
   "name": "python",
   "nbconvert_exporter": "python",
   "pygments_lexer": "ipython3",
   "version": "3.5.3"
  }
 },
 "nbformat": 4,
 "nbformat_minor": 1
}
